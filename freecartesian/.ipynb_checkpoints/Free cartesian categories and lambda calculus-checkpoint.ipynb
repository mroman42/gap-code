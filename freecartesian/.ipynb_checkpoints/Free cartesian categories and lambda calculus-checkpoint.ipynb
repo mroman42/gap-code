{
 "cells": [
  {
   "cell_type": "code",
   "execution_count": 95,
   "metadata": {},
   "outputs": [
    {
     "name": "stdout",
     "output_type": "stream",
     "text": [
      "#W NewRepresentation \"IsAtomRep\" in Reread. Change of Super-rep not handled\n",
      "#W NewRepresentation \"IsToptRep\" in Reread. Change of Super-rep not handled\n",
      "#W NewRepresentation \"IsProdRep\" in Reread. Change of Super-rep not handled\n",
      "#W NewRepresentation \"IsExpoRep\" in Reread. Change of Super-rep not handled\n",
      "#W NewRepresentation \"IsTermRep\" in Reread. Change of Super-rep not handled\n",
      "#W NewRepresentation \"IsAstRep\" in Reread. Change of Super-rep not handled\n",
      "#W NewRepresentation \"IsConstRep\" in Reread. Change of Super-rep not handled\n",
      "#W NewRepresentation \"IsVarRep\" in Reread. Change of Super-rep not handled\n",
      "#W NewRepresentation \"IsAbsRep\" in Reread. Change of Super-rep not handled\n",
      "#W NewRepresentation \"IsAppRep\" in Reread. Change of Super-rep not handled\n",
      "#W NewRepresentation \"IsPairRep\" in Reread. Change of Super-rep not handled\n",
      "#W NewRepresentation \"IsFstRep\" in Reread. Change of Super-rep not handled\n",
      "#W NewRepresentation \"IsSndRep\" in Reread. Change of Super-rep not handled\n",
      "#W NewRepresentation \"IsFcccMorphismRep\" in Reread. Change of Super-rep not ha\\\n",
      "ndled\n"
     ]
    }
   ],
   "source": [
    "Reread(\"~/projects/gap-code/freecartesian/fccc.gap\");;"
   ]
  },
  {
   "cell_type": "code",
   "execution_count": 98,
   "metadata": {},
   "outputs": [
    {
     "data": {
      "text/plain": [
       "(A × B)"
      ]
     },
     "execution_count": 98,
     "metadata": {
      "text/plain": ""
     },
     "output_type": "execute_result"
    }
   ],
   "source": [
    "A := Atom(\"A\");;\n",
    "B := Atom(\"B\");;\n",
    "DirectProduct(A,B);"
   ]
  },
  {
   "cell_type": "code",
   "execution_count": 103,
   "metadata": {},
   "outputs": [
    {
     "data": {
      "text/plain": [
       "<A morphism in Free Cartesian Closed Category over a set>"
      ]
     },
     "execution_count": 99,
     "metadata": {
      "text/plain": ""
     },
     "output_type": "execute_result"
    },
    {
     "data": {
      "text/plain": [
       "A"
      ]
     },
     "execution_count": 100,
     "metadata": {
      "text/plain": ""
     },
     "output_type": "execute_result"
    },
    {
     "data": {
      "text/plain": [
       "A"
      ]
     },
     "execution_count": 101,
     "metadata": {
      "text/plain": ""
     },
     "output_type": "execute_result"
    },
    {
     "data": {
      "text/plain": [
       "λ(1) : (A → A)"
      ]
     },
     "execution_count": 102,
     "metadata": {
      "text/plain": ""
     },
     "output_type": "execute_result"
    },
    {
     "data": {
      "text/plain": [
       "<A morphism in Free Cartesian Closed Category over a set>"
      ]
     },
     "execution_count": 103,
     "metadata": {
      "text/plain": ""
     },
     "output_type": "execute_result"
    }
   ],
   "source": [
    "a := AsFCCCMorphism(Abs(Atom(\"A\"),Var(1)));\n",
    "Source(a);\n",
    "Range(a);\n",
    "Term(a);\n",
    "\n",
    "u := AsFCCCMorphism(Abs(Atom(\"A\"),Ast()));"
   ]
  },
  {
   "cell_type": "code",
   "execution_count": 106,
   "metadata": {},
   "outputs": [
    {
     "data": {
      "text/plain": [
       "λ(<(π₂ 1),(π₁ 1)>) : ((A × B) → (B × A))"
      ]
     },
     "execution_count": 105,
     "metadata": {
      "text/plain": ""
     },
     "output_type": "execute_result"
    },
    {
     "data": {
      "text/plain": [
       "true"
      ]
     },
     "execution_count": 106,
     "metadata": {
      "text/plain": ""
     },
     "output_type": "execute_result"
    }
   ],
   "source": [
    "swap := function (A,B)\n",
    "    local v, w;\n",
    "    v := ProjectionInFactorOfDirectProduct([A,B],2);;\n",
    "    w := ProjectionInFactorOfDirectProduct([A,B],1);;\n",
    "    return UniversalMorphismIntoDirectProduct([v,w]);\n",
    "end;;\n",
    "\n",
    "Term(swap(A,B));\n",
    "PreCompose(swap(A,B),swap(B,A)) = IdentityMorphism(Prod(A,B));"
   ]
  },
  {
   "cell_type": "code",
   "execution_count": 109,
   "metadata": {},
   "outputs": [
    {
     "data": {
      "text/plain": [
       "λ((π₁ 1) (π₂ 1)) : (((A → B) × A) → B)"
      ]
     },
     "execution_count": 107,
     "metadata": {
      "text/plain": ""
     },
     "output_type": "execute_result"
    },
    {
     "data": {
      "text/plain": [
       "λ(λ(<2,1>)) : (A → (B → (A × B)))"
      ]
     },
     "execution_count": 108,
     "metadata": {
      "text/plain": ""
     },
     "output_type": "execute_result"
    },
    {
     "data": {
      "text/plain": [
       "true"
      ]
     },
     "execution_count": 109,
     "metadata": {
      "text/plain": ""
     },
     "output_type": "execute_result"
    }
   ],
   "source": [
    "Term(EvaluationMorphism(A,B));\n",
    "Term(CoevaluationMorphism(A,B));\n",
    "PreCompose(EvaluationMorphism(A,B),IdentityMorphism(B)) = EvaluationMorphism(A,B);"
   ]
  },
  {
   "cell_type": "code",
   "execution_count": 113,
   "metadata": {},
   "outputs": [
    {
     "data": {
      "text/plain": [
       "function( a, b, f ) ... end"
      ]
     },
     "execution_count": 110,
     "metadata": {
      "text/plain": ""
     },
     "output_type": "execute_result"
    },
    {
     "data": {
      "text/plain": [
       "λ(λ(1)) : (⊤ → (A → A))"
      ]
     },
     "execution_count": 112,
     "metadata": {
      "text/plain": ""
     },
     "output_type": "execute_result"
    },
    {
     "data": {
      "text/plain": [
       "λ(1) : (A → A)"
      ]
     },
     "execution_count": 113,
     "metadata": {
      "text/plain": ""
     },
     "output_type": "execute_result"
    }
   ],
   "source": [
    "lambdaelim := \n",
    "function (a, b, f)\n",
    "  return AsFCCCMorphism( App(Term(f), Ast()) );        \n",
    "end;\n",
    "\n",
    "h := LambdaIntroduction(IdentityMorphism(A));;\n",
    "Term(h);\n",
    "Term(lambdaelim(A,A,h));"
   ]
  },
  {
   "cell_type": "markdown",
   "metadata": {},
   "source": [
    "## Universal properties"
   ]
  },
  {
   "cell_type": "markdown",
   "metadata": {},
   "source": [
    "### For the unit"
   ]
  },
  {
   "cell_type": "code",
   "execution_count": 117,
   "metadata": {},
   "outputs": [
    {
     "data": {
      "text/plain": [
       "true"
      ]
     },
     "execution_count": 117,
     "metadata": {
      "text/plain": ""
     },
     "output_type": "execute_result"
    }
   ],
   "source": [
    "# Any morphism A → 1 must be precisely the universal one.\n",
    "\n",
    "A := Atom(\"A\");;\n",
    "\n",
    "f := CreateFreeMorphismBetween(A,TerminalObject(fccc),\"f\");;\n",
    "u := UniversalMorphismIntoTerminalObject(A);;\n",
    "\n",
    "f = u;"
   ]
  },
  {
   "cell_type": "markdown",
   "metadata": {},
   "source": [
    "### For the product"
   ]
  },
  {
   "cell_type": "code",
   "execution_count": 124,
   "metadata": {},
   "outputs": [
    {
     "data": {
      "text/plain": [
       "true"
      ]
     },
     "execution_count": 124,
     "metadata": {
      "text/plain": ""
     },
     "output_type": "execute_result"
    }
   ],
   "source": [
    "# Given any morphism f : C → A × B, it is precisely\n",
    "# the universal morphism determined by its projections.\n",
    "\n",
    "A := Atom(\"A\");;\n",
    "B := Atom(\"B\");;\n",
    "C := Atom(\"C\");;\n",
    "f := CreateFreeMorphismBetween(C,Prod(A,B),\"f\");;\n",
    "\n",
    "fpi1 := PreCompose(f, ProjectionInFactorOfDirectProduct([A,B],1));;\n",
    "fpi2 := PreCompose(f, ProjectionInFactorOfDirectProduct([A,B],2));;\n",
    "\n",
    "f = UniversalMorphismIntoDirectProduct(fpi1,fpi2);"
   ]
  },
  {
   "cell_type": "code",
   "execution_count": 132,
   "metadata": {},
   "outputs": [
    {
     "data": {
      "text/plain": [
       "true"
      ]
     },
     "execution_count": 131,
     "metadata": {
      "text/plain": ""
     },
     "output_type": "execute_result"
    },
    {
     "data": {
      "text/plain": [
       "true"
      ]
     },
     "execution_count": 132,
     "metadata": {
      "text/plain": ""
     },
     "output_type": "execute_result"
    }
   ],
   "source": [
    "# Given two morphisms f : C → A and g : C → B, the universal\n",
    "# morphism into the product has them as its projections.\n",
    "\n",
    "A := Atom(\"A\");;\n",
    "B := Atom(\"B\");;\n",
    "C := Atom(\"C\");;\n",
    "\n",
    "f := CreateFreeMorphismBetween(C,A,\"f\");;\n",
    "g := CreateFreeMorphismBetween(C,B,\"g\");;\n",
    "h := UniversalMorphismIntoDirectProduct(f,g);;\n",
    "\n",
    "f = PreCompose(h, ProjectionInFactorOfDirectProduct([A,B],1));\n",
    "g = PreCompose(h, ProjectionInFactorOfDirectProduct([A,B],2));"
   ]
  },
  {
   "cell_type": "markdown",
   "metadata": {},
   "source": [
    "### For the exponential"
   ]
  },
  {
   "cell_type": "code",
   "execution_count": 353,
   "metadata": {},
   "outputs": [
    {
     "data": {
      "text/plain": [
       "e : ((C × B) → A)"
      ]
     },
     "execution_count": 344,
     "metadata": {
      "text/plain": ""
     },
     "output_type": "execute_result"
    },
    {
     "data": {
      "text/plain": [
       "λ((π₁ 1) (π₂ 1)) : (((B → A) × B) → A)"
      ]
     },
     "execution_count": 347,
     "metadata": {
      "text/plain": ""
     },
     "output_type": "execute_result"
    },
    {
     "data": {
      "text/plain": [
       "λ(λ(e <2,1>)) : (C → (B → A))"
      ]
     },
     "execution_count": 349,
     "metadata": {
      "text/plain": ""
     },
     "output_type": "execute_result"
    },
    {
     "data": {
      "text/plain": [
       "true"
      ]
     },
     "execution_count": 353,
     "metadata": {
      "text/plain": ""
     },
     "output_type": "execute_result"
    }
   ],
   "source": [
    "# Given any map e : C × B → A, there exists a unique\n",
    "# map u : C → (B → A) such that (u × id) ∘ ev = e.\n",
    "\n",
    "A := Atom(\"A\");;\n",
    "B := Atom(\"B\");;\n",
    "C := Atom(\"C\");;\n",
    "\n",
    "e := CreateFreeMorphismBetween(Prod(C,B), A, \"e\");;\n",
    "Term(e);\n",
    "idb := IdentityMorphism(B);;\n",
    "evab := EvaluationMorphism(B,A);;\n",
    "Term(evab);\n",
    "u := TensorProductToInternalHomAdjunctionMap(C,B,e);;\n",
    "Term(u);\n",
    "\n",
    "uproj := PreCompose(ProjectionInFactorOfDirectProduct([C,B],1),u);;\n",
    "iproj := PreCompose(ProjectionInFactorOfDirectProduct([C,B],2),idb);;\n",
    "phi := UniversalMorphismIntoDirectProduct(uproj,iproj);;\n",
    "\n",
    "PreCompose(phi, evab) = e;"
   ]
  },
  {
   "cell_type": "markdown",
   "metadata": {},
   "source": [
    "## Church naturals"
   ]
  },
  {
   "cell_type": "code",
   "execution_count": null,
   "metadata": {},
   "outputs": [],
   "source": [
    "paircompose := "
   ]
  },
  {
   "cell_type": "code",
   "execution_count": 294,
   "metadata": {},
   "outputs": [],
   "source": [
    "A := Atom(\"A\");;"
   ]
  },
  {
   "cell_type": "code",
   "execution_count": 339,
   "metadata": {},
   "outputs": [
    {
     "data": {
      "text/plain": [
       "λ(λ(1)) : ((A → A) → (A → A))"
      ]
     },
     "execution_count": 338,
     "metadata": {
      "text/plain": ""
     },
     "output_type": "execute_result"
    },
    {
     "data": {
      "text/plain": [
       "function( n ) ... end"
      ]
     },
     "execution_count": 339,
     "metadata": {
      "text/plain": ""
     },
     "output_type": "execute_result"
    }
   ],
   "source": [
    "czero := TensorProductToInternalHomAdjunctionMap(\n",
    "InternalHomOnObjects(A,A),A,\n",
    "ProjectionInFactorOfDirectProduct([InternalHomOnObjects(A,A), A],2)\n",
    ");;\n",
    "\n",
    "csucc := \n",
    "\n",
    "church := function (n)\n",
    "    \n",
    "end;"
   ]
  },
  {
   "cell_type": "code",
   "execution_count": null,
   "metadata": {},
   "outputs": [],
   "source": []
  }
 ],
 "metadata": {
  "kernelspec": {
   "display_name": "GAP 4",
   "language": "gap",
   "name": "gap-4"
  },
  "language_info": {
   "codemirror_mode": "gap",
   "file_extension": ".g",
   "mimetype": "text/x-gap",
   "name": "GAP 4",
   "nbconvert_exporter": "",
   "pygments_lexer": "gap",
   "version": "4.9.2"
  }
 },
 "nbformat": 4,
 "nbformat_minor": 2
}
