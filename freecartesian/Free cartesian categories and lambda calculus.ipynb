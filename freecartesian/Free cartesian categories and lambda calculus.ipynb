{
 "cells": [
  {
   "cell_type": "code",
   "execution_count": 1,
   "metadata": {},
   "outputs": [],
   "source": [
    "Reread(\"~/projects/gap-code/freecartesian/fccc.gap\");;"
   ]
  },
  {
   "cell_type": "markdown",
   "metadata": {},
   "source": [
    "### An example: swapping"
   ]
  },
  {
   "cell_type": "code",
   "execution_count": 4,
   "metadata": {},
   "outputs": [
    {
     "data": {
      "text/plain": [
       "(A × B)"
      ]
     },
     "execution_count": 4,
     "metadata": {
      "text/plain": ""
     },
     "output_type": "execute_result"
    }
   ],
   "source": [
    "A := Atom(\"A\");;\n",
    "B := Atom(\"B\");;\n",
    "DirectProduct(A,B);"
   ]
  },
  {
   "cell_type": "code",
   "execution_count": 6,
   "metadata": {},
   "outputs": [
    {
     "data": {
      "text/plain": [
       "true"
      ]
     },
     "execution_count": 6,
     "metadata": {
      "text/plain": ""
     },
     "output_type": "execute_result"
    }
   ],
   "source": [
    "# Swapping twice gives the identity\n",
    "swap := function (A,B)\n",
    "    local v, w;\n",
    "    v := ProjectionInFactorOfDirectProduct([A,B],2);;\n",
    "    w := ProjectionInFactorOfDirectProduct([A,B],1);;\n",
    "    return UniversalMorphismIntoDirectProduct([v,w]);\n",
    "end;;\n",
    "\n",
    "PreCompose(swap(A,B),swap(B,A)) = IdentityMorphism(Prod(A,B));"
   ]
  },
  {
   "cell_type": "markdown",
   "metadata": {},
   "source": [
    "## Universal properties"
   ]
  },
  {
   "cell_type": "markdown",
   "metadata": {},
   "source": [
    "### For the unit"
   ]
  },
  {
   "cell_type": "code",
   "execution_count": 10,
   "metadata": {},
   "outputs": [
    {
     "data": {
      "text/plain": [
       "true"
      ]
     },
     "execution_count": 10,
     "metadata": {
      "text/plain": ""
     },
     "output_type": "execute_result"
    }
   ],
   "source": [
    "# Any morphism A → 1 must be precisely the universal one.\n",
    "\n",
    "A := Atom(\"A\");;\n",
    "\n",
    "f := CreateFreeMorphismBetween(A,TerminalObject(fccc),\"f\");;\n",
    "u := UniversalMorphismIntoTerminalObject(A);;\n",
    "\n",
    "f = u;"
   ]
  },
  {
   "cell_type": "markdown",
   "metadata": {},
   "source": [
    "### For the product"
   ]
  },
  {
   "cell_type": "code",
   "execution_count": 17,
   "metadata": {},
   "outputs": [
    {
     "data": {
      "text/plain": [
       "true"
      ]
     },
     "execution_count": 17,
     "metadata": {
      "text/plain": ""
     },
     "output_type": "execute_result"
    }
   ],
   "source": [
    "# Given any morphism f : C → A × B, it is precisely\n",
    "# the universal morphism determined by its projections.\n",
    "\n",
    "A := Atom(\"A\");;\n",
    "B := Atom(\"B\");;\n",
    "C := Atom(\"C\");;\n",
    "f := CreateFreeMorphismBetween(C,Prod(A,B),\"f\");;\n",
    "\n",
    "fpi1 := PreCompose(f, ProjectionInFactorOfDirectProduct([A,B],1));;\n",
    "fpi2 := PreCompose(f, ProjectionInFactorOfDirectProduct([A,B],2));;\n",
    "\n",
    "f = UniversalMorphismIntoDirectProduct(fpi1,fpi2);"
   ]
  },
  {
   "cell_type": "code",
   "execution_count": 25,
   "metadata": {},
   "outputs": [
    {
     "data": {
      "text/plain": [
       "true"
      ]
     },
     "execution_count": 24,
     "metadata": {
      "text/plain": ""
     },
     "output_type": "execute_result"
    },
    {
     "data": {
      "text/plain": [
       "true"
      ]
     },
     "execution_count": 25,
     "metadata": {
      "text/plain": ""
     },
     "output_type": "execute_result"
    }
   ],
   "source": [
    "# Given two morphisms f : C → A and g : C → B, the universal\n",
    "# morphism into the product has them as its projections.\n",
    "\n",
    "A := Atom(\"A\");;\n",
    "B := Atom(\"B\");;\n",
    "C := Atom(\"C\");;\n",
    "\n",
    "f := CreateFreeMorphismBetween(C,A,\"f\");;\n",
    "g := CreateFreeMorphismBetween(C,B,\"g\");;\n",
    "h := UniversalMorphismIntoDirectProduct(f,g);;\n",
    "\n",
    "f = PreCompose(h, ProjectionInFactorOfDirectProduct([A,B],1));\n",
    "g = PreCompose(h, ProjectionInFactorOfDirectProduct([A,B],2));"
   ]
  },
  {
   "cell_type": "markdown",
   "metadata": {},
   "source": [
    "### For the exponential"
   ]
  },
  {
   "cell_type": "code",
   "execution_count": 50,
   "metadata": {},
   "outputs": [
    {
     "data": {
      "text/plain": [
       "true"
      ]
     },
     "execution_count": 50,
     "metadata": {
      "text/plain": ""
     },
     "output_type": "execute_result"
    }
   ],
   "source": [
    "# Given any map e : C × B → A, there exists a unique\n",
    "# map u : C → (B → A) such that (u × id) ∘ ev = e.\n",
    "\n",
    "A := Atom(\"A\");;\n",
    "B := Atom(\"B\");;\n",
    "C := Atom(\"C\");;\n",
    "\n",
    "e := CreateFreeMorphismBetween(Prod(C,B), A, \"e\");;\n",
    "idb := IdentityMorphism(B);;\n",
    "evab := EvaluationMorphism(B,A);;\n",
    "u := TensorProductToInternalHomAdjunctionMap(C,B,e);;\n",
    "\n",
    "uproj := PreCompose(ProjectionInFactorOfDirectProduct([C,B],1),u);;\n",
    "iproj := PreCompose(ProjectionInFactorOfDirectProduct([C,B],2),idb);;\n",
    "phi := UniversalMorphismIntoDirectProduct(uproj,iproj);;\n",
    "\n",
    "PreCompose(phi, evab) = e;"
   ]
  },
  {
   "cell_type": "markdown",
   "metadata": {},
   "source": [
    "## Church naturals, addition on CCCs\n",
    "\n",
    "$$ (A \\to A) \\to (A \\to A) $$\n",
    "\n",
    "Note that these are different from a natural numbers object in that we cannot use primitive recursion."
   ]
  },
  {
   "cell_type": "code",
   "execution_count": 55,
   "metadata": {},
   "outputs": [],
   "source": [
    "A := Atom(\"A\");;\n",
    "AtoA := InternalHomOnObjects(A,A);;\n",
    "\n",
    "czero := TensorProductToInternalHomAdjunctionMap(\n",
    "AtoA,A,\n",
    "ProjectionInFactorOfDirectProduct([InternalHomOnObjects(A,A), A],2)\n",
    ");;\n",
    "\n",
    "csucc := AsFCCCMorphism( \n",
    "Abs(InternalHomOnObjects(AtoA,AtoA),\n",
    "Abs(AtoA,\n",
    "Abs(A,\n",
    "App(Var(2), App(App(Var(3),Var(2)),Var(1)))\n",
    "))));;\n",
    "\n",
    "church := function (n)\n",
    "    if n = 0 then\n",
    "        return LambdaIntroduction(czero);\n",
    "    else\n",
    "        return PostCompose(csucc, church(n-1));\n",
    "    fi;    \n",
    "end;;"
   ]
  },
  {
   "cell_type": "code",
   "execution_count": 57,
   "metadata": {},
   "outputs": [],
   "source": [
    "plus := AsFCCCMorphism(\n",
    "Abs(Expo(AtoA,AtoA),\n",
    "Abs(Expo(AtoA,AtoA),\n",
    "Abs(AtoA,\n",
    "Abs(A,\n",
    "\n",
    "App(App(Var(4),Var(2)), App(App(Var(3),Var(2)),Var(1)))\n",
    "\n",
    "))))\n",
    ");;\n",
    "\n",
    "addChurch := function (a,b)\n",
    "    return PostCompose(LambdaElimination(Expo(AtoA,AtoA),\n",
    "    Expo(AtoA,AtoA),PostCompose(plus, a)), b);\n",
    "end;;"
   ]
  },
  {
   "cell_type": "code",
   "execution_count": 58,
   "metadata": {},
   "outputs": [
    {
     "data": {
      "text/plain": [
       "true"
      ]
     },
     "execution_count": 58,
     "metadata": {
      "text/plain": ""
     },
     "output_type": "execute_result"
    }
   ],
   "source": [
    "addChurch(church(3),church(5)) = church(8);"
   ]
  },
  {
   "cell_type": "code",
   "execution_count": 59,
   "metadata": {},
   "outputs": [
    {
     "data": {
      "text/plain": [
       "true"
      ]
     },
     "execution_count": 59,
     "metadata": {
      "text/plain": ""
     },
     "output_type": "execute_result"
    }
   ],
   "source": [
    "addChurch(church(8),church(9)) = church(17);"
   ]
  },
  {
   "cell_type": "code",
   "execution_count": null,
   "metadata": {},
   "outputs": [],
   "source": []
  }
 ],
 "metadata": {
  "kernelspec": {
   "display_name": "GAP 4",
   "language": "gap",
   "name": "gap-4"
  },
  "language_info": {
   "codemirror_mode": "gap",
   "file_extension": ".g",
   "mimetype": "text/x-gap",
   "name": "GAP 4",
   "nbconvert_exporter": "",
   "pygments_lexer": "gap",
   "version": "4.9.2"
  }
 },
 "nbformat": 4,
 "nbformat_minor": 2
}
