{
 "cells": [
  {
   "cell_type": "code",
   "execution_count": 1,
   "metadata": {},
   "outputs": [],
   "source": [
    "LoadPackage(\"CAP\");;"
   ]
  },
  {
   "cell_type": "code",
   "execution_count": 2,
   "metadata": {},
   "outputs": [],
   "source": [
    "Read(\"~/projects/gap-code/FinSet.g\");"
   ]
  },
  {
   "cell_type": "code",
   "execution_count": 7,
   "metadata": {},
   "outputs": [],
   "source": [
    "A := FinSet([1,3,4]);;\n",
    "B := FinSet(['a','b']);;\n",
    "C := FinSet([1,4,3]);;\n",
    "f := FinSetMorphism(A,B,[[1,'a'],[3,'b'],[4,'a']]);;\n",
    "g := FinSetMorphism(B,C,[['a',1],['b',3]]);;"
   ]
  },
  {
   "cell_type": "code",
   "execution_count": 10,
   "metadata": {},
   "outputs": [
    {
     "data": {
      "text/plain": [
       "Morphism from:   [ 2, 3, 4 ]    to:   [ 2, 3, 4 ]    given by:     2 ↦ 2,    3 ↦ 3,    4 ↦ 4,    "
      ]
     },
     "execution_count": 10,
     "metadata": {
      "text/plain": ""
     },
     "output_type": "execute_result"
    }
   ],
   "source": [
    "IdentityMorphism(A);;\n",
    "IsEqualForObjects(A,C);;\n",
    "PreCompose(IdentityMorphism(FinSet([2,3,4])), IdentityMorphism(FinSet([4,3,2])));"
   ]
  },
  {
   "cell_type": "code",
   "execution_count": 14,
   "metadata": {},
   "outputs": [
    {
     "data": {
      "text/plain": [
       "Morphism from:   ab    to:   ab    given by:     'a' ↦ 'a',    'b' ↦ 'b',    "
      ]
     },
     "execution_count": 13,
     "metadata": {
      "text/plain": ""
     },
     "output_type": "execute_result"
    },
    {
     "data": {
      "text/plain": [
       "Morphism from:   [ 1, 3, 4 ]    to:   [ 1, 4, 3 ]    given by:     1 ↦ 1,    3 ↦ 3,    4 ↦ 1,    "
      ]
     },
     "execution_count": 14,
     "metadata": {
      "text/plain": ""
     },
     "output_type": "execute_result"
    }
   ],
   "source": [
    "AddMorphism(finset, f);;\n",
    "AddMorphism(finset, g);;\n",
    "PreCompose(g,f);\n",
    "PreCompose(f,g);"
   ]
  },
  {
   "cell_type": "code",
   "execution_count": 15,
   "metadata": {},
   "outputs": [
    {
     "data": {
      "text/plain": [
       "true"
      ]
     },
     "execution_count": 15,
     "metadata": {
      "text/plain": ""
     },
     "output_type": "execute_result"
    }
   ],
   "source": [
    "IsCongruentForMorphisms(PreCompose(g,f),IdentityMorphism(B));"
   ]
  },
  {
   "cell_type": "code",
   "execution_count": 16,
   "metadata": {},
   "outputs": [
    {
     "data": {
      "text/plain": [
       "Morphism from:   [ 1, 3, 4 ]    to:   *    given by:     1 ↦ '*',    3 ↦ '*',    4 ↦ '*',    "
      ]
     },
     "execution_count": 16,
     "metadata": {
      "text/plain": ""
     },
     "output_type": "execute_result"
    }
   ],
   "source": [
    "UniversalMorphismIntoTerminalObject(A);"
   ]
  },
  {
   "cell_type": "code",
   "execution_count": 20,
   "metadata": {},
   "outputs": [
    {
     "data": {
      "text/plain": [
       "3"
      ]
     },
     "execution_count": 17,
     "metadata": {
      "text/plain": ""
     },
     "output_type": "execute_result"
    },
    {
     "data": {
      "text/plain": [
       "2"
      ]
     },
     "execution_count": 18,
     "metadata": {
      "text/plain": ""
     },
     "output_type": "execute_result"
    },
    {
     "data": {
      "text/plain": [
       "3"
      ]
     },
     "execution_count": 19,
     "metadata": {
      "text/plain": ""
     },
     "output_type": "execute_result"
    },
    {
     "data": {
      "text/plain": [
       "18"
      ]
     },
     "execution_count": 20,
     "metadata": {
      "text/plain": ""
     },
     "output_type": "execute_result"
    }
   ],
   "source": [
    "Size(A);\n",
    "Size(B);\n",
    "Size(C);\n",
    "Size(DirectProduct(A,C,B));"
   ]
  },
  {
   "cell_type": "code",
   "execution_count": 21,
   "metadata": {},
   "outputs": [
    {
     "data": {
      "text/plain": [
       "[ [ A morphism in FinSet, 'a' ], [ A morphism in FinSet, 'b' ], [ A morphism in FinSet, 'a' ], [ A morphism in FinSet, 'b' ], [ A morphism in FinSet, 'a' ], [ A morphism in FinSet, 'b' ], [ A morphism in FinSet, 'a' ], [ A morphism in FinSet, 'b' ], [ A morphism in FinSet, 'a' ], [ A morphism in FinSet, 'b' ], [ A morphism in FinSet, 'a' ], [ A morphism in FinSet, 'b' ], [ A morphism in FinSet, 'a' ], [ A morphism in FinSet, 'b' ], [ A morphism in FinSet, 'a' ], [ A morphism in FinSet, 'b' ] ]"
      ]
     },
     "execution_count": 21,
     "metadata": {
      "text/plain": ""
     },
     "output_type": "execute_result"
    }
   ],
   "source": [
    "DirectProduct(InternalHomOnObjects(A,B),B);"
   ]
  },
  {
   "cell_type": "code",
   "execution_count": 22,
   "metadata": {},
   "outputs": [
    {
     "data": {
      "text/plain": [
       "Morphism from:   [ [ A morphism in FinSet, 1 ], [ A morphism in FinSet, 3 ], [ A morphism in FinSet, 4 ], [ A morphism in FinSet, 1 ], [ A morphism in FinSet, 3 ], [ A morphism in FinSet, 4 ], [ A morphism in FinSet, 1 ], [ A morphism in FinSet, 3 ], [ A morphism in FinSet, 4 ], [ A morphism in FinSet, 1 ], [ A morphism in FinSet, 3 ], [ A morphism in FinSet, 4 ], [ A morphism in FinSet, 1 ], [ A morphism in FinSet, 3 ], [ A morphism in FinSet, 4 ], [ A morphism in FinSet, 1 ], [ A morphism in FinSet, 3 ], [ A morphism in FinSet, 4 ], [ A morphism in FinSet, 1 ], [ A morphism in FinSet, 3 ], [ A morphism in FinSet, 4 ], [ A morphism in FinSet, 1 ], [ A morphism in FinSet, 3 ], [ A morphism in FinSet, 4 ] ]    to:   ab    given by:     [ A morphism in FinSet, 1 ] ↦ 'a',    [ A morphism in FinSet, 3 ] ↦ 'a',    [ A morphism in FinSet, 4 ] ↦ 'a',    [ A morphism in FinSet, 1 ] ↦ 'a',    [ A morphism in FinSet, 3 ] ↦ 'a',    [ A morphism in FinSet, 4 ] ↦ 'b',    [ A morphism in FinSet, 1 ] ↦ 'a',    [ A morphism in FinSet, 3 ] ↦ 'b',    [ A morphism in FinSet, 4 ] ↦ 'a',    [ A morphism in FinSet, 1 ] ↦ 'a',    [ A morphism in FinSet, 3 ] ↦ 'b',    [ A morphism in FinSet, 4 ] ↦ 'b',    [ A morphism in FinSet, 1 ] ↦ 'b',    [ A morphism in FinSet, 3 ] ↦ 'a',    [ A morphism in FinSet, 4 ] ↦ 'a',    [ A morphism in FinSet, 1 ] ↦ 'b',    [ A morphism in FinSet, 3 ] ↦ 'a',    [ A morphism in FinSet, 4 ] ↦ 'b',    [ A morphism in FinSet, 1 ] ↦ 'b',    [ A morphism in FinSet, 3 ] ↦ 'b',    [ A morphism in FinSet, 4 ] ↦ 'a',    [ A morphism in FinSet, 1 ] ↦ 'b',    [ A morphism in FinSet, 3 ] ↦ 'b',    [ A morphism in FinSet, 4 ] ↦ 'b',    "
      ]
     },
     "execution_count": 22,
     "metadata": {
      "text/plain": ""
     },
     "output_type": "execute_result"
    }
   ],
   "source": [
    "EvaluationMorphism(A,B);"
   ]
  },
  {
   "cell_type": "code",
   "execution_count": 27,
   "metadata": {},
   "outputs": [
    {
     "data": {
      "text/plain": [
       "Morphism from:   *    to:   [ 1, 2, 3 ]    given by:     '*' ↦ 2,    "
      ]
     },
     "execution_count": 27,
     "metadata": {
      "text/plain": ""
     },
     "output_type": "execute_result"
    }
   ],
   "source": [
    "# Generalized Elements\n",
    "u := FinSet([2,4,8]);;\n",
    "v := FinSet([1,2,3]);;\n",
    "l := FinSetMorphism(u,v,[[2,1],[4,2],[8,3]]);;\n",
    "e1 := FinSetMorphism(TerminalObject(finset), u, [['*',4]]);;\n",
    "PreCompose(e1,l);"
   ]
  },
  {
   "cell_type": "code",
   "execution_count": 28,
   "metadata": {},
   "outputs": [
    {
     "data": {
      "text/plain": [
       "Morphism from:   [ [ A morphism in FinSet, 1 ], [ A morphism in FinSet, 3 ], [ A morphism in FinSet, 4 ], [ A morphism in FinSet, 1 ], [ A morphism in FinSet, 3 ], [ A morphism in FinSet, 4 ], [ A morphism in FinSet, 1 ], [ A morphism in FinSet, 3 ], [ A morphism in FinSet, 4 ], [ A morphism in FinSet, 1 ], [ A morphism in FinSet, 3 ], [ A morphism in FinSet, 4 ], [ A morphism in FinSet, 1 ], [ A morphism in FinSet, 3 ], [ A morphism in FinSet, 4 ], [ A morphism in FinSet, 1 ], [ A morphism in FinSet, 3 ], [ A morphism in FinSet, 4 ], [ A morphism in FinSet, 1 ], [ A morphism in FinSet, 3 ], [ A morphism in FinSet, 4 ], [ A morphism in FinSet, 1 ], [ A morphism in FinSet, 3 ], [ A morphism in FinSet, 4 ] ]    to:   ab    given by:     [ A morphism in FinSet, 1 ] ↦ 'a',    [ A morphism in FinSet, 3 ] ↦ 'a',    [ A morphism in FinSet, 4 ] ↦ 'a',    [ A morphism in FinSet, 1 ] ↦ 'a',    [ A morphism in FinSet, 3 ] ↦ 'a',    [ A morphism in FinSet, 4 ] ↦ 'b',    [ A morphism in FinSet, 1 ] ↦ 'a',    [ A morphism in FinSet, 3 ] ↦ 'b',    [ A morphism in FinSet, 4 ] ↦ 'a',    [ A morphism in FinSet, 1 ] ↦ 'a',    [ A morphism in FinSet, 3 ] ↦ 'b',    [ A morphism in FinSet, 4 ] ↦ 'b',    [ A morphism in FinSet, 1 ] ↦ 'b',    [ A morphism in FinSet, 3 ] ↦ 'a',    [ A morphism in FinSet, 4 ] ↦ 'a',    [ A morphism in FinSet, 1 ] ↦ 'b',    [ A morphism in FinSet, 3 ] ↦ 'a',    [ A morphism in FinSet, 4 ] ↦ 'b',    [ A morphism in FinSet, 1 ] ↦ 'b',    [ A morphism in FinSet, 3 ] ↦ 'b',    [ A morphism in FinSet, 4 ] ↦ 'a',    [ A morphism in FinSet, 1 ] ↦ 'b',    [ A morphism in FinSet, 3 ] ↦ 'b',    [ A morphism in FinSet, 4 ] ↦ 'b',    "
      ]
     },
     "execution_count": 28,
     "metadata": {
      "text/plain": ""
     },
     "output_type": "execute_result"
    }
   ],
   "source": [
    "EvaluationMorphism(A,B);"
   ]
  },
  {
   "cell_type": "code",
   "execution_count": 29,
   "metadata": {},
   "outputs": [
    {
     "data": {
      "text/plain": [
       "[ [ 1, 'a', 1 ], [ 1, 'a', 4 ], [ 1, 'a', 3 ], [ 1, 'b', 1 ], [ 1, 'b', 4 ], [ 1, 'b', 3 ], [ 3, 'a', 1 ], [ 3, 'a', 4 ], [ 3, 'a', 3 ], [ 3, 'b', 1 ], [ 3, 'b', 4 ], [ 3, 'b', 3 ], [ 4, 'a', 1 ], [ 4, 'a', 4 ], [ 4, 'a', 3 ], [ 4, 'b', 1 ], [ 4, 'b', 4 ], [ 4, 'b', 3 ] ]"
      ]
     },
     "execution_count": 29,
     "metadata": {
      "text/plain": ""
     },
     "output_type": "execute_result"
    }
   ],
   "source": [
    "DirectProduct(A,B,C);"
   ]
  },
  {
   "cell_type": "code",
   "execution_count": 30,
   "metadata": {},
   "outputs": [
    {
     "data": {
      "text/plain": [
       "Morphism from:   [ 1, 3, 4 ]    to:   [ A morphism in FinSet, A morphism in FinSet, A morphism in FinSet, A morphism in FinSet, A morphism in FinSet, A morphism in FinSet, A morphism in FinSet, A morphism in FinSet, A morphism in FinSet, A morphism in FinSet, A morphism in FinSet, A morphism in FinSet, A morphism in FinSet, A morphism in FinSet, A morphism in FinSet, A morphism in FinSet, A morphism in FinSet, A morphism in FinSet, A morphism in FinSet, A morphism in FinSet, A morphism in FinSet, A morphism in FinSet, A morphism in FinSet, A morphism in FinSet, A morphism in FinSet, A morphism in FinSet, A morphism in FinSet, A morphism in FinSet, A morphism in FinSet, A morphism in FinSet, A morphism in FinSet, A morphism in FinSet, A morphism in FinSet, A morphism in FinSet, A morphism in FinSet, A morphism in FinSet ]    given by:     1 ↦ A morphism in FinSet,    3 ↦ A morphism in FinSet,    4 ↦ A morphism in FinSet,    "
      ]
     },
     "execution_count": 30,
     "metadata": {
      "text/plain": ""
     },
     "output_type": "execute_result"
    }
   ],
   "source": [
    "CoevaluationMorphismWithGivenRange(A,B,InternalHomOnObjects(B,DirectProduct(A,B)));"
   ]
  },
  {
   "cell_type": "code",
   "execution_count": 31,
   "metadata": {},
   "outputs": [
    {
     "data": {
      "text/plain": [
       "Morphism from:   [ [ 1, 'a' ], [ 1, 'b' ], [ 3, 'a' ], [ 3, 'b' ], [ 4, 'a' ], [ 4, 'b' ] ]    to:   [ 1, 3, 4 ]    given by:     [ 1, 'a' ] ↦ 1,    [ 1, 'b' ] ↦ 1,    [ 3, 'a' ] ↦ 3,    [ 3, 'b' ] ↦ 3,    [ 4, 'a' ] ↦ 4,    [ 4, 'b' ] ↦ 4,    "
      ]
     },
     "execution_count": 31,
     "metadata": {
      "text/plain": ""
     },
     "output_type": "execute_result"
    }
   ],
   "source": [
    "ProjectionInFactorOfDirectProduct([A,B],1);"
   ]
  },
  {
   "cell_type": "code",
   "execution_count": 32,
   "metadata": {},
   "outputs": [
    {
     "data": {
      "text/plain": [
       "'b'"
      ]
     },
     "execution_count": 32,
     "metadata": {
      "text/plain": ""
     },
     "output_type": "execute_result"
    }
   ],
   "source": [
    "Evaluate(f,3);"
   ]
  },
  {
   "cell_type": "code",
   "execution_count": 38,
   "metadata": {},
   "outputs": [
    {
     "data": {
      "text/plain": [
       "[ 1, 2 ]"
      ]
     },
     "execution_count": 33,
     "metadata": {
      "text/plain": ""
     },
     "output_type": "execute_result"
    },
    {
     "data": {
      "text/plain": [
       "abc"
      ]
     },
     "execution_count": 34,
     "metadata": {
      "text/plain": ""
     },
     "output_type": "execute_result"
    },
    {
     "data": {
      "text/plain": [
       "[ 5 ]"
      ]
     },
     "execution_count": 35,
     "metadata": {
      "text/plain": ""
     },
     "output_type": "execute_result"
    },
    {
     "data": {
      "text/plain": [
       "Morphism from:   [ 5 ]    to:   [ 1, 2 ]    given by:     5 ↦ 1,    "
      ]
     },
     "execution_count": 36,
     "metadata": {
      "text/plain": ""
     },
     "output_type": "execute_result"
    },
    {
     "data": {
      "text/plain": [
       "Morphism from:   [ 5 ]    to:   abc    given by:     5 ↦ 'c',    "
      ]
     },
     "execution_count": 37,
     "metadata": {
      "text/plain": ""
     },
     "output_type": "execute_result"
    },
    {
     "data": {
      "text/plain": [
       "Morphism from:   [ 5 ]    to:   [ [ 1, 'a' ], [ 1, 'b' ], [ 1, 'c' ], [ 2, 'a' ], [ 2, 'b' ], [ 2, 'c' ] ]    given by:     5 ↦ [ 1, 'c' ],    "
      ]
     },
     "execution_count": 38,
     "metadata": {
      "text/plain": ""
     },
     "output_type": "execute_result"
    }
   ],
   "source": [
    "UA := FinSet([1,2]);\n",
    "UB := FinSet(['a','b','c']);\n",
    "UC := FinSet([5]);\n",
    "uf := FinSetMorphism(UC,UA,[[5,1]]);\n",
    "ug := FinSetMorphism(UC,UB,[[5,'c']]);\n",
    "\n",
    "UniversalMorphismIntoDirectProduct([UA,UB],[uf,ug]);"
   ]
  },
  {
   "cell_type": "markdown",
   "metadata": {},
   "source": [
    "## Calculus"
   ]
  },
  {
   "cell_type": "code",
   "execution_count": 42,
   "metadata": {},
   "outputs": [],
   "source": [
    "# Types\n",
    "one := TerminalObject(finset);;\n",
    "zero := InitialObject(finset);;\n",
    "times := function(A,B) return DirectProduct(A,B); end;;\n",
    "hom := function(A,B) return InternalHomOnObjects(A,B); end;;"
   ]
  },
  {
   "cell_type": "code",
   "execution_count": 43,
   "metadata": {},
   "outputs": [],
   "source": [
    "#\n",
    "#  -------(Unit)\n",
    "#   Γ ⊢ ∗\n",
    "\n",
    "Unit := function(A) \n",
    "    return UniversalMorphismIntoTerminalObject(A);\n",
    "end;;"
   ]
  },
  {
   "cell_type": "code",
   "execution_count": 44,
   "metadata": {},
   "outputs": [],
   "source": [
    "#  Γ ⊢ A  Γ ⊢ B\n",
    "# --------------(Pair)\n",
    "#   Γ ⊢  A × B\n",
    "\n",
    "Pair := function (f,g)\n",
    "    return UniversalMorphismIntoDirectProduct([Range(f),Range(g)],[f,g]);\n",
    "end;;"
   ]
  },
  {
   "cell_type": "code",
   "execution_count": 45,
   "metadata": {},
   "outputs": [],
   "source": [
    "#  Γ ⊢ A × B\n",
    "# -----------(Fst)\n",
    "#    Γ ⊢ A\n",
    "\n",
    "Fst := function (A,B,f)\n",
    "    return PreCompose(f, \n",
    "    ProjectionInFactorOfDirectProduct([A,B],1));\n",
    "end;;"
   ]
  },
  {
   "cell_type": "code",
   "execution_count": 46,
   "metadata": {},
   "outputs": [],
   "source": [
    "#  Γ ⊢ A × B\n",
    "# -----------(Snd)\n",
    "#    Γ ⊢ B\n",
    "\n",
    "Snd := function (A,B,f)\n",
    "    return PreCompose(f, \n",
    "    ProjectionInFactorOfDirectProduct([A,B],2));\n",
    "end;;"
   ]
  },
  {
   "cell_type": "code",
   "execution_count": 47,
   "metadata": {},
   "outputs": [
    {
     "data": {
      "text/plain": [
       "function( f ) ... end"
      ]
     },
     "execution_count": 47,
     "metadata": {
      "text/plain": ""
     },
     "output_type": "execute_result"
    }
   ],
   "source": [
    "#     A ⊢ B\n",
    "# --------------(Lam)\n",
    "#  ∗ ⊢ hom(A,B)\n",
    "\n",
    "Lam := function (f)\n",
    "    return FinSetMorphism(one,hom(Source(f),Range(f)), [['*',f]]);\n",
    "end;"
   ]
  },
  {
   "cell_type": "code",
   "execution_count": 48,
   "metadata": {},
   "outputs": [
    {
     "data": {
      "text/plain": [
       "function( A, B, f, u ) ... end"
      ]
     },
     "execution_count": 48,
     "metadata": {
      "text/plain": ""
     },
     "output_type": "execute_result"
    }
   ],
   "source": [
    "#  Γ ⊢ hom(A,B)  Γ ⊢ A\n",
    "# ---------------------(App)\n",
    "#         Γ ⊢ B\n",
    "\n",
    "App := function (A,B,f,u)\n",
    "    return PreCompose(Pair(f,u),EvaluationMorphism(A,B));\n",
    "end;"
   ]
  },
  {
   "cell_type": "code",
   "execution_count": 49,
   "metadata": {},
   "outputs": [
    {
     "data": {
      "text/plain": [
       "Morphism from:   *    to:   [ A morphism in FinSet ]    given by:     '*' ↦ A morphism in FinSet,    "
      ]
     },
     "execution_count": 49,
     "metadata": {
      "text/plain": ""
     },
     "output_type": "execute_result"
    }
   ],
   "source": [
    "Lam(Fst(one,one,Pair(Unit(A),Unit(A))));"
   ]
  },
  {
   "cell_type": "code",
   "execution_count": 52,
   "metadata": {},
   "outputs": [
    {
     "data": {
      "text/plain": [
       "Morphism from:   *    to:   [ A morphism in FinSet, A morphism in FinSet, A morphism in FinSet, A morphism in FinSet, A morphism in FinSet, A morphism in FinSet, A morphism in FinSet, A morphism in FinSet ]    given by:     '*' ↦ A morphism in FinSet,    "
      ]
     },
     "execution_count": 50,
     "metadata": {
      "text/plain": ""
     },
     "output_type": "execute_result"
    },
    {
     "data": {
      "text/plain": [
       "Morphism from:   *    to:   [ 1, 3, 4 ]    given by:     '*' ↦ 1,    "
      ]
     },
     "execution_count": 51,
     "metadata": {
      "text/plain": ""
     },
     "output_type": "execute_result"
    },
    {
     "data": {
      "text/plain": [
       "Morphism from:   *    to:   ab    given by:     '*' ↦ 'a',    "
      ]
     },
     "execution_count": 52,
     "metadata": {
      "text/plain": ""
     },
     "output_type": "execute_result"
    }
   ],
   "source": [
    "f := FinSetMorphism(one, hom(A,B), \n",
    "[['*', \n",
    "FinSetMorphism(A,B,[[1,'a'],[3,'a'],[4,'b']])\n",
    "]]);\n",
    "\n",
    "a := FinSetMorphism(one, A, [['*', 1]]);\n",
    "\n",
    "App(A,B,f,a);"
   ]
  },
  {
   "cell_type": "code",
   "execution_count": 53,
   "metadata": {},
   "outputs": [
    {
     "data": {
      "text/plain": [
       "function( A, B ) ... end"
      ]
     },
     "execution_count": 53,
     "metadata": {
      "text/plain": ""
     },
     "output_type": "execute_result"
    }
   ],
   "source": [
    "pi1 := function (A,B)\n",
    "    return ProjectionInFactorOfDirectProduct([A,B],1);\n",
    "end;"
   ]
  },
  {
   "cell_type": "code",
   "execution_count": 54,
   "metadata": {},
   "outputs": [
    {
     "data": {
      "text/plain": [
       "function( A, B ) ... end"
      ]
     },
     "execution_count": 54,
     "metadata": {
      "text/plain": ""
     },
     "output_type": "execute_result"
    }
   ],
   "source": [
    "pi2 := function (A,B)\n",
    "    return ProjectionInFactorOfDirectProduct([A,B],2);\n",
    "end;"
   ]
  },
  {
   "cell_type": "code",
   "execution_count": 55,
   "metadata": {},
   "outputs": [
    {
     "data": {
      "text/plain": [
       "function( A, B ) ... end"
      ]
     },
     "execution_count": 55,
     "metadata": {
      "text/plain": ""
     },
     "output_type": "execute_result"
    }
   ],
   "source": [
    "swap := function (A,B)\n",
    "    local a, b;\n",
    "    a := pi1(A,B);\n",
    "    b := pi2(A,B);\n",
    "    return Pair(b,a);\n",
    "end;"
   ]
  },
  {
   "cell_type": "code",
   "execution_count": 56,
   "metadata": {},
   "outputs": [
    {
     "data": {
      "text/plain": [
       "Morphism from:   [ [ 1, 'a' ], [ 1, 'b' ], [ 3, 'a' ], [ 3, 'b' ], [ 4, 'a' ], [ 4, 'b' ] ]    to:   [ [ 'a', 1 ], [ 'a', 3 ], [ 'a', 4 ], [ 'b', 1 ], [ 'b', 3 ], [ 'b', 4 ] ]    given by:     [ 1, 'a' ] ↦ [ 'a', 1 ],    [ 1, 'b' ] ↦ [ 'b', 1 ],    [ 3, 'a' ] ↦ [ 'a', 3 ],    [ 3, 'b' ] ↦ [ 'b', 3 ],    [ 4, 'a' ] ↦ [ 'a', 4 ],    [ 4, 'b' ] ↦ [ 'b', 4 ],    "
      ]
     },
     "execution_count": 56,
     "metadata": {
      "text/plain": ""
     },
     "output_type": "execute_result"
    }
   ],
   "source": [
    "swap(A,B);"
   ]
  },
  {
   "cell_type": "code",
   "execution_count": 57,
   "metadata": {},
   "outputs": [
    {
     "data": {
      "text/plain": [
       "function( A, B, f ) ... end"
      ]
     },
     "execution_count": 57,
     "metadata": {
      "text/plain": ""
     },
     "output_type": "execute_result"
    }
   ],
   "source": [
    "curry := function (A,B,f)\n",
    "    return TensorProductToInternalHomAdjunctionMap(A,B,f);\n",
    "end;"
   ]
  },
  {
   "cell_type": "code",
   "execution_count": 63,
   "metadata": {},
   "outputs": [
    {
     "data": {
      "text/plain": [
       "function( B, C, g ) ... end"
      ]
     },
     "execution_count": 63,
     "metadata": {
      "text/plain": ""
     },
     "output_type": "execute_result"
    }
   ],
   "source": [
    "uncurry := function (B,C,g)\n",
    "    return InternalHomToTensorProductAdjunctionMap(B,C,f);\n",
    "end;"
   ]
  },
  {
   "cell_type": "code",
   "execution_count": 58,
   "metadata": {},
   "outputs": [
    {
     "data": {
      "text/plain": [
       "function( A, B ) ... end"
      ]
     },
     "execution_count": 58,
     "metadata": {
      "text/plain": ""
     },
     "output_type": "execute_result"
    }
   ],
   "source": [
    "const := function (A,B)\n",
    "    return curry(A,B, pi1(A,B));\n",
    "end;"
   ]
  },
  {
   "cell_type": "code",
   "execution_count": 60,
   "metadata": {},
   "outputs": [
    {
     "data": {
      "text/plain": [
       "Morphism from:   ab    to:   [ 1, 3, 4 ]    given by:     'a' ↦ 3,    'b' ↦ 3,    "
      ]
     },
     "execution_count": 60,
     "metadata": {
      "text/plain": ""
     },
     "output_type": "execute_result"
    }
   ],
   "source": [
    "TensorProductToInternalHomAdjunctionMap(A, B, swap(A,B));;\n",
    "Evaluate(const(A,B),3);"
   ]
  },
  {
   "cell_type": "code",
   "execution_count": 62,
   "metadata": {},
   "outputs": [
    {
     "data": {
      "text/plain": [
       "Morphism from:   [ [ 1, 'a' ], [ 1, 'b' ], [ 3, 'a' ], [ 3, 'b' ], [ 4, 'a' ], [ 4, 'b' ] ]    to:   [ [ 'a', 1 ], [ 'a', 3 ], [ 'a', 4 ], [ 'b', 1 ], [ 'b', 3 ], [ 'b', 4 ] ]    given by:     [ 1, 'a' ] ↦ [ 'a', 1 ],    [ 1, 'b' ] ↦ [ 'b', 1 ],    [ 3, 'a' ] ↦ [ 'a', 3 ],    [ 3, 'b' ] ↦ [ 'b', 3 ],    [ 4, 'a' ] ↦ [ 'a', 4 ],    [ 4, 'b' ] ↦ [ 'b', 4 ],    "
      ]
     },
     "execution_count": 62,
     "metadata": {
      "text/plain": ""
     },
     "output_type": "execute_result"
    }
   ],
   "source": [
    "InternalHomToTensorProductAdjunctionMap(B, times(B,A),TensorProductToInternalHomAdjunctionMap(A, B, swap(A,B)));"
   ]
  }
 ],
 "metadata": {
  "kernelspec": {
   "display_name": "GAP 4",
   "language": "gap",
   "name": "gap-4"
  },
  "language_info": {
   "codemirror_mode": "gap",
   "file_extension": ".g",
   "mimetype": "text/x-gap",
   "name": "GAP 4",
   "nbconvert_exporter": "",
   "pygments_lexer": "gap",
   "version": "4.9.2"
  }
 },
 "nbformat": 4,
 "nbformat_minor": 2
}
